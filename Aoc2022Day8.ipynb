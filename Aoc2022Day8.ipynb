{
  "metadata": {
    "language_info": {
      "codemirror_mode": {
        "name": "python",
        "version": 3
      },
      "file_extension": ".py",
      "mimetype": "text/x-python",
      "name": "python",
      "nbconvert_exporter": "python",
      "pygments_lexer": "ipython3",
      "version": "3.8"
    },
    "kernelspec": {
      "name": "python",
      "display_name": "Python (Pyodide)",
      "language": "python"
    }
  },
  "nbformat_minor": 4,
  "nbformat": 4,
  "cells": [
    {
      "cell_type": "code",
      "source": "data =[list(map(int, line)) for line in open('day8.txt').read().splitlines()]",
      "metadata": {
        "trusted": true
      },
      "execution_count": 74,
      "outputs": []
    },
    {
      "cell_type": "code",
      "source": "def is_visible(row, col, row_index, col_index):\n    left_row = row[:row_index]\n    left = 1\n    if row[row_index] > max(left_row):\n        left = 0\n        \n    right_row = row[row_index+1:]\n    right = 1\n    if row[row_index] > max(right_row):\n        right = 0\n        \n    top_col = col[:col_index]\n    top = 1\n    if col[col_index] > max(top_col):\n        top = 0\n        \n    down_col = col[col_index+1:] \n    down = 1\n    if col[col_index] > max(down_col):\n        down = 0\n    \n    if left * right* top * down == 0:\n        return 1\n    return 0",
      "metadata": {
        "trusted": true
      },
      "execution_count": 40,
      "outputs": []
    },
    {
      "cell_type": "code",
      "source": "def get_score(row, col, row_index, col_index):\n    left_row = row[:row_index]\n    left = 0\n    for tree in left_row[::-1]:    \n        if row[row_index] > tree:\n            left += 1\n        else:\n            left += 1\n            break\n        \n    right_row = row[row_index+1:]\n    right = 0\n    for tree in right_row:\n        if row[row_index] >tree:\n            right += 1\n        else:\n            right += 1\n            break\n        \n    top_col = col[:col_index]\n    top = 0\n    for tree in top_col[::-1]:\n        if col[col_index] > tree:\n            top += 1\n        else:\n            top += 1\n            break\n        \n    down_col = col[col_index+1:] \n    down = 0\n    for tree in down_col:\n        if col[col_index] > tree:\n            down += 1\n        else:\n            down += 1\n            break\n    \n    score = left * right* top * down\n        \n    return score",
      "metadata": {
        "trusted": true
      },
      "execution_count": 71,
      "outputs": []
    },
    {
      "cell_type": "code",
      "source": "total = 2*len(data)+2*len(data[0])-4\nfor i in range(1, len(data)-1):\n    row = data[i]\n    for j in range(1, len(data[0])-1):   \n        col =[]\n        for k in range(len(data)):\n            col.append(data[k][j]) \n        #print(\"row\",row)\n        if is_visible(row, col, j, i)==1:\n            total+=1\n        j += 1\n    i += 1\nprint(total)",
      "metadata": {
        "trusted": true
      },
      "execution_count": 64,
      "outputs": []
    },
    {
      "cell_type": "code",
      "source": "#part 2\nscores = []\nfor i in range(1, len(data)-1):\n    row = data[i]\n    for j in range(1, len(data[0])-1):   \n        col =[]\n        for k in range(len(data)):\n            col.append(data[k][j]) \n        #print(\"row\",row)\n        scores.append(get_score(row, col, j, i))\n        j += 1\n    i += 1",
      "metadata": {
        "trusted": true
      },
      "execution_count": 75,
      "outputs": []
    },
    {
      "cell_type": "code",
      "source": "print(scores)",
      "metadata": {},
      "execution_count": null,
      "outputs": []
    }
  ]
}