{
  "metadata": {
    "language_info": {
      "codemirror_mode": {
        "name": "python",
        "version": 3
      },
      "file_extension": ".py",
      "mimetype": "text/x-python",
      "name": "python",
      "nbconvert_exporter": "python",
      "pygments_lexer": "ipython3",
      "version": "3.8"
    },
    "kernelspec": {
      "name": "python",
      "display_name": "Python (Pyodide)",
      "language": "python"
    }
  },
  "nbformat_minor": 4,
  "nbformat": 4,
  "cells": [
    {
      "cell_type": "code",
      "source": "commands = open('day7.txt').read().splitlines()\n#print(commands)",
      "metadata": {
        "trusted": true
      },
      "execution_count": 187,
      "outputs": []
    },
    {
      "cell_type": "code",
      "source": "# head\ni = 0\nj = 0\nheads = []\nfor command in commands:\n    if command.split()[0] == 'R':\n        for k in range(int(command.split()[1])):\n            j+=1\n            heads.append([i,j])\n    elif command.split()[0] == 'L':\n        for k in range(int(command.split()[1])):\n            j-=1 \n            heads.append([i,j])\n    elif command.split()[0] == 'U':\n        for k in range(int(command.split()[1])):\n            i+=1\n            heads.append([i,j])\n    else:\n        for k in range(int(command.split()[1])):\n            i-=1\n            heads.append([i,j])\n    ",
      "metadata": {
        "trusted": true
      },
      "execution_count": 188,
      "outputs": []
    },
    {
      "cell_type": "code",
      "source": "def get_tails(heads):\n    tail = [0,0]\n    tails = []\n    for head in heads:\n        if head[0] == tail[0] and (head[1]-tail[1] == 2 or head[1]-tail[1] == -2):\n            #print(head)\n            tail[1] = tail[1] + (head[1]-tail[1])//2\n        elif head[1] == tail[1] and (head[0]-tail[0] == 2 or head[0]-tail[0] == -2):\n            tail[0] = tail[0] + (head[0]-tail[0])//2    \n        elif (head[0]-tail[0] == 1 or head[0]-tail[0] == -1) and (head[1]-tail[1] == 2 or head[1]-tail[1] == -2):\n            tail[0] = tail[0] + (head[0]-tail[0])//1\n            tail[1] = tail[1] + (head[1]-tail[1])//2    \n        elif (head[0]-tail[0] == 2 or head[0]-tail[0] == -2) and (head[1]-tail[1] == 1 or head[1]-tail[1] == -1):\n            tail[0] = tail[0] + (head[0]-tail[0])//2\n            tail[1] = tail[1] + (head[1]-tail[1])//1 \n        elif (head[0]-tail[0] == 2 or head[0]-tail[0] == -2) and (head[1]-tail[1] == 2 or head[1]-tail[1] == -2):\n            tail[0] = tail[0] + (head[0]-tail[0])//2\n            tail[1] = tail[1] + (head[1]-tail[1])//2    \n        else:\n            continue\n        tails+=tail\n    return tails",
      "metadata": {
        "trusted": true
      },
      "execution_count": 181,
      "outputs": []
    },
    {
      "cell_type": "code",
      "source": "def tails_list(tails):\n    result = []\n    for idx in range(0, len(tails), 2):\n        result.append(tails[idx:idx+2])  \n    return result",
      "metadata": {
        "trusted": true
      },
      "execution_count": 148,
      "outputs": []
    },
    {
      "cell_type": "code",
      "source": "tails1= get_tails(heads)\nnewtails1 = tails_list(tails1)",
      "metadata": {
        "trusted": true
      },
      "execution_count": 189,
      "outputs": []
    },
    {
      "cell_type": "code",
      "source": "tails2= get_tails(newtails1)\nnewtails2 = tails_list(tails2)\ntails3= get_tails(newtails2)\nnewtails3 = tails_list(tails3)\ntails4= get_tails(newtails3)\nnewtails4 = tails_list(tails4)\ntails5= get_tails(newtails4)\nnewtails5 = tails_list(tails5)\n\ntails6= get_tails(newtails5)\nnewtails6 = tails_list(tails6)\ntails7= get_tails(newtails6)\nnewtails7 = tails_list(tails7)\ntails8= get_tails(newtails7)\nnewtails8 = tails_list(tails8)\ntails9= get_tails(newtails8)",
      "metadata": {
        "trusted": true
      },
      "execution_count": 190,
      "outputs": []
    },
    {
      "cell_type": "code",
      "source": "result = []\nfor idx in range(0, len(tails9), 2):\n    result.append(str(tails9[idx:idx+2]))\nmylist = list(dict.fromkeys(result))\nprint(len(mylist)+1)",
      "metadata": {
        "trusted": true
      },
      "execution_count": 191,
      "outputs": [
        {
          "name": "stdout",
          "text": "2303\n",
          "output_type": "stream"
        }
      ]
    },
    {
      "cell_type": "code",
      "source": "",
      "metadata": {},
      "execution_count": null,
      "outputs": []
    }
  ]
}